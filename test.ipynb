{
 "cells": [
  {
   "cell_type": "code",
   "execution_count": 4,
   "metadata": {},
   "outputs": [
    {
     "data": {
      "text/plain": [
       "[np.float64(-781.8454909185509),\n",
       " np.float64(-760.0807916614322),\n",
       " np.float64(-733.9088922606956),\n",
       " np.float64(-732.3505431950632),\n",
       " np.float64(-714.7789297558054),\n",
       " np.float64(-740.9096352677287),\n",
       " np.float64(-732.640948864134),\n",
       " np.float64(-751.7169807279377),\n",
       " np.float64(-776.6163828981228),\n",
       " np.float64(-779.2896375061036),\n",
       " np.float64(-781.646200972085),\n",
       " np.float64(-763.9773421508377),\n",
       " np.float64(-774.169803698408),\n",
       " np.float64(-764.684710091976),\n",
       " np.float64(-734.5927076044148),\n",
       " np.float64(-790.488127981635),\n",
       " np.float64(-758.7352520421816),\n",
       " np.float64(-755.0723894124691),\n",
       " np.float64(-784.591727516854),\n",
       " np.float64(-899.6429978048569),\n",
       " np.float64(-856.5777549212112),\n",
       " np.float64(-861.1894613971888),\n",
       " np.float64(-795.153164982849),\n",
       " np.float64(-949.4621405044076),\n",
       " np.float64(-908.6101763870913),\n",
       " np.float64(-854.7457643486305),\n",
       " np.float64(-931.511345334265),\n",
       " np.float64(-717.2052293113749),\n",
       " np.float64(-768.9893362205935),\n",
       " np.float64(-624.2294693152023)]"
      ]
     },
     "execution_count": 4,
     "metadata": {},
     "output_type": "execute_result"
    }
   ],
   "source": [
    "import pickle\n",
    "\n",
    "\n",
    "with open('imit_ucb/assets/envDiscreteGaussianGridworld-v0type1noiseE0.0/airl/reward_history/1_2.p', 'rb') as file:\n",
    "    array = pickle.load(file)\n",
    "\n",
    "array['rewards']"
   ]
  },
  {
   "cell_type": "code",
   "execution_count": 14,
   "metadata": {},
   "outputs": [
    {
     "data": {
      "text/plain": [
       "([np.float64(-772.2633127171227),\n",
       "  np.float64(-740.5023481251985),\n",
       "  np.float64(-738.763476236514),\n",
       "  np.float64(-737.824848264413),\n",
       "  np.float64(-790.4129575736308),\n",
       "  np.float64(-687.7373680757955),\n",
       "  np.float64(-686.2706253704384),\n",
       "  np.float64(-654.0328684011408),\n",
       "  np.float64(-661.4394009428445),\n",
       "  np.float64(-681.2809851338102),\n",
       "  np.float64(-683.3165869550566),\n",
       "  np.float64(-723.1101175739806),\n",
       "  np.float64(-690.0442275772876),\n",
       "  np.float64(-650.2065395789118),\n",
       "  np.float64(-624.8010078499808),\n",
       "  np.float64(-629.6947994226983),\n",
       "  np.float64(-621.1183928717361),\n",
       "  np.float64(-594.3398757784522),\n",
       "  np.float64(-587.6165335916345),\n",
       "  np.float64(-619.683455460141),\n",
       "  np.float64(-652.0136225068878),\n",
       "  np.float64(-1109.8338843319461),\n",
       "  np.float64(-967.885781698696),\n",
       "  np.float64(-679.5451454666589),\n",
       "  np.float64(-713.9112616193867),\n",
       "  np.float64(-699.8163747747781),\n",
       "  np.float64(-667.9063374713154),\n",
       "  np.float64(-640.3122294088755),\n",
       "  np.float64(-639.9540195938467),\n",
       "  np.float64(-633.17079854886)],\n",
       " [1,\n",
       "  1,\n",
       "  1,\n",
       "  1,\n",
       "  2,\n",
       "  2,\n",
       "  2,\n",
       "  1,\n",
       "  1,\n",
       "  1,\n",
       "  1,\n",
       "  1,\n",
       "  2,\n",
       "  2,\n",
       "  2,\n",
       "  2,\n",
       "  2,\n",
       "  3,\n",
       "  3,\n",
       "  4,\n",
       "  3,\n",
       "  1,\n",
       "  1,\n",
       "  1,\n",
       "  1,\n",
       "  1,\n",
       "  1,\n",
       "  1,\n",
       "  1,\n",
       "  1])"
      ]
     },
     "execution_count": 14,
     "metadata": {},
     "output_type": "execute_result"
    }
   ],
   "source": [
    "with open('imit_ucb/assets/envDiscreteGaussianGridworld-v0type1noiseE0.0/gail/reward_history/0_2.p', 'rb') as file:\n",
    "    array = pickle.load(file)\n",
    "\n",
    "array['rewards'], array['episodes']"
   ]
  },
  {
   "cell_type": "code",
   "execution_count": 15,
   "metadata": {},
   "outputs": [
    {
     "data": {
      "text/plain": [
       "array([-672.95429635, -644.76927779, -667.56146718, -639.51629157,\n",
       "       -675.44195197])"
      ]
     },
     "execution_count": 15,
     "metadata": {},
     "output_type": "execute_result"
    }
   ],
   "source": [
    "with open('imit_ucb/assets/envDiscreteGaussianGridworld-v0type1noiseE0.0/ppil/reward_history/0_1.p', 'rb') as file:\n",
    "    array = pickle.load(file)\n",
    "\n",
    "array"
   ]
  }
 ],
 "metadata": {
  "kernelspec": {
   "display_name": ".myenv",
   "language": "python",
   "name": "python3"
  },
  "language_info": {
   "codemirror_mode": {
    "name": "ipython",
    "version": 3
   },
   "file_extension": ".py",
   "mimetype": "text/x-python",
   "name": "python",
   "nbconvert_exporter": "python",
   "pygments_lexer": "ipython3",
   "version": "3.11.10"
  }
 },
 "nbformat": 4,
 "nbformat_minor": 2
}
